{
  "cells": [
    {
      "cell_type": "markdown",
      "metadata": {},
      "source": [
        "### Library "
      ]
    },
    {
      "cell_type": "code",
      "execution_count": 2,
      "metadata": {
        "id": "ktqlgLlc9OtA"
      },
      "outputs": [],
      "source": [
        "import numpy as np\n",
        "import pandas as pd\n",
        "import tensorflow as tf\n",
        "import matplotlib.pyplot as plt\n",
        "import seaborn as sns\n",
        "from sklearn.model_selection import train_test_split\n",
        "from tensorflow.keras.models import Sequential\n",
        "from tensorflow.keras.layers import Dense,Dropout,Input\n",
        "from tensorflow.keras.optimizers import SGD,Adam,RMSprop\n",
        "from tensorflow.keras.callbacks import EarlyStopping\n",
        "from tensorflow import keras\n",
        "from tensorflow.keras import layers\n",
        "from imblearn.over_sampling import SMOTE\n",
        "from tensorflow.keras.models import load_model\n",
        "from sklearn.metrics import classification_report"
      ]
    },
    {
      "cell_type": "markdown",
      "metadata": {},
      "source": [
        "### Import Data"
      ]
    },
    {
      "cell_type": "code",
      "execution_count": 3,
      "metadata": {
        "colab": {
          "base_uri": "https://localhost:8080/",
          "height": 423
        },
        "id": "2nS9ORYwFL8l",
        "outputId": "289d0f14-2d89-4f53-df8e-05f9ab854d71"
      },
      "outputs": [
        {
          "data": {
            "text/html": [
              "<div>\n",
              "<style scoped>\n",
              "    .dataframe tbody tr th:only-of-type {\n",
              "        vertical-align: middle;\n",
              "    }\n",
              "\n",
              "    .dataframe tbody tr th {\n",
              "        vertical-align: top;\n",
              "    }\n",
              "\n",
              "    .dataframe thead th {\n",
              "        text-align: right;\n",
              "    }\n",
              "</style>\n",
              "<table border=\"1\" class=\"dataframe\">\n",
              "  <thead>\n",
              "    <tr style=\"text-align: right;\">\n",
              "      <th></th>\n",
              "      <th>ph</th>\n",
              "      <th>Hardness</th>\n",
              "      <th>Solids</th>\n",
              "      <th>Chloramines</th>\n",
              "      <th>Sulfate</th>\n",
              "      <th>Conductivity</th>\n",
              "      <th>Organic_carbon</th>\n",
              "      <th>Trihalomethanes</th>\n",
              "      <th>Turbidity</th>\n",
              "      <th>Potability</th>\n",
              "    </tr>\n",
              "  </thead>\n",
              "  <tbody>\n",
              "    <tr>\n",
              "      <th>0</th>\n",
              "      <td>NaN</td>\n",
              "      <td>204.890456</td>\n",
              "      <td>20791.31898</td>\n",
              "      <td>7.300212</td>\n",
              "      <td>368.516441</td>\n",
              "      <td>564.308654</td>\n",
              "      <td>10.379783</td>\n",
              "      <td>86.990970</td>\n",
              "      <td>2.963135</td>\n",
              "      <td>0</td>\n",
              "    </tr>\n",
              "    <tr>\n",
              "      <th>1</th>\n",
              "      <td>3.716080</td>\n",
              "      <td>129.422921</td>\n",
              "      <td>18630.05786</td>\n",
              "      <td>6.635246</td>\n",
              "      <td>NaN</td>\n",
              "      <td>592.885359</td>\n",
              "      <td>15.180013</td>\n",
              "      <td>56.329076</td>\n",
              "      <td>4.500656</td>\n",
              "      <td>0</td>\n",
              "    </tr>\n",
              "    <tr>\n",
              "      <th>2</th>\n",
              "      <td>8.099124</td>\n",
              "      <td>224.236259</td>\n",
              "      <td>19909.54173</td>\n",
              "      <td>9.275884</td>\n",
              "      <td>NaN</td>\n",
              "      <td>418.606213</td>\n",
              "      <td>16.868637</td>\n",
              "      <td>66.420093</td>\n",
              "      <td>3.055934</td>\n",
              "      <td>0</td>\n",
              "    </tr>\n",
              "    <tr>\n",
              "      <th>3</th>\n",
              "      <td>8.316766</td>\n",
              "      <td>214.373394</td>\n",
              "      <td>22018.41744</td>\n",
              "      <td>8.059332</td>\n",
              "      <td>356.886136</td>\n",
              "      <td>363.266516</td>\n",
              "      <td>18.436525</td>\n",
              "      <td>100.341674</td>\n",
              "      <td>4.628771</td>\n",
              "      <td>0</td>\n",
              "    </tr>\n",
              "    <tr>\n",
              "      <th>4</th>\n",
              "      <td>9.092223</td>\n",
              "      <td>181.101509</td>\n",
              "      <td>17978.98634</td>\n",
              "      <td>6.546600</td>\n",
              "      <td>310.135738</td>\n",
              "      <td>398.410813</td>\n",
              "      <td>11.558279</td>\n",
              "      <td>31.997993</td>\n",
              "      <td>4.075075</td>\n",
              "      <td>0</td>\n",
              "    </tr>\n",
              "    <tr>\n",
              "      <th>...</th>\n",
              "      <td>...</td>\n",
              "      <td>...</td>\n",
              "      <td>...</td>\n",
              "      <td>...</td>\n",
              "      <td>...</td>\n",
              "      <td>...</td>\n",
              "      <td>...</td>\n",
              "      <td>...</td>\n",
              "      <td>...</td>\n",
              "      <td>...</td>\n",
              "    </tr>\n",
              "    <tr>\n",
              "      <th>3271</th>\n",
              "      <td>4.668102</td>\n",
              "      <td>193.681736</td>\n",
              "      <td>47580.99160</td>\n",
              "      <td>7.166639</td>\n",
              "      <td>359.948574</td>\n",
              "      <td>526.424171</td>\n",
              "      <td>13.894419</td>\n",
              "      <td>66.687695</td>\n",
              "      <td>4.435821</td>\n",
              "      <td>1</td>\n",
              "    </tr>\n",
              "    <tr>\n",
              "      <th>3272</th>\n",
              "      <td>7.808856</td>\n",
              "      <td>193.553212</td>\n",
              "      <td>17329.80216</td>\n",
              "      <td>8.061362</td>\n",
              "      <td>NaN</td>\n",
              "      <td>392.449580</td>\n",
              "      <td>19.903225</td>\n",
              "      <td>NaN</td>\n",
              "      <td>2.798243</td>\n",
              "      <td>1</td>\n",
              "    </tr>\n",
              "    <tr>\n",
              "      <th>3273</th>\n",
              "      <td>9.419510</td>\n",
              "      <td>175.762646</td>\n",
              "      <td>33155.57822</td>\n",
              "      <td>7.350233</td>\n",
              "      <td>NaN</td>\n",
              "      <td>432.044783</td>\n",
              "      <td>11.039070</td>\n",
              "      <td>69.845400</td>\n",
              "      <td>3.298875</td>\n",
              "      <td>1</td>\n",
              "    </tr>\n",
              "    <tr>\n",
              "      <th>3274</th>\n",
              "      <td>5.126763</td>\n",
              "      <td>230.603758</td>\n",
              "      <td>11983.86938</td>\n",
              "      <td>6.303357</td>\n",
              "      <td>NaN</td>\n",
              "      <td>402.883113</td>\n",
              "      <td>11.168946</td>\n",
              "      <td>77.488213</td>\n",
              "      <td>4.708658</td>\n",
              "      <td>1</td>\n",
              "    </tr>\n",
              "    <tr>\n",
              "      <th>3275</th>\n",
              "      <td>7.874671</td>\n",
              "      <td>195.102299</td>\n",
              "      <td>17404.17706</td>\n",
              "      <td>7.509306</td>\n",
              "      <td>NaN</td>\n",
              "      <td>327.459761</td>\n",
              "      <td>16.140368</td>\n",
              "      <td>78.698446</td>\n",
              "      <td>2.309149</td>\n",
              "      <td>1</td>\n",
              "    </tr>\n",
              "  </tbody>\n",
              "</table>\n",
              "<p>3276 rows × 10 columns</p>\n",
              "</div>"
            ],
            "text/plain": [
              "            ph    Hardness       Solids  Chloramines     Sulfate  \\\n",
              "0          NaN  204.890456  20791.31898     7.300212  368.516441   \n",
              "1     3.716080  129.422921  18630.05786     6.635246         NaN   \n",
              "2     8.099124  224.236259  19909.54173     9.275884         NaN   \n",
              "3     8.316766  214.373394  22018.41744     8.059332  356.886136   \n",
              "4     9.092223  181.101509  17978.98634     6.546600  310.135738   \n",
              "...        ...         ...          ...          ...         ...   \n",
              "3271  4.668102  193.681736  47580.99160     7.166639  359.948574   \n",
              "3272  7.808856  193.553212  17329.80216     8.061362         NaN   \n",
              "3273  9.419510  175.762646  33155.57822     7.350233         NaN   \n",
              "3274  5.126763  230.603758  11983.86938     6.303357         NaN   \n",
              "3275  7.874671  195.102299  17404.17706     7.509306         NaN   \n",
              "\n",
              "      Conductivity  Organic_carbon  Trihalomethanes  Turbidity  Potability  \n",
              "0       564.308654       10.379783        86.990970   2.963135           0  \n",
              "1       592.885359       15.180013        56.329076   4.500656           0  \n",
              "2       418.606213       16.868637        66.420093   3.055934           0  \n",
              "3       363.266516       18.436525       100.341674   4.628771           0  \n",
              "4       398.410813       11.558279        31.997993   4.075075           0  \n",
              "...            ...             ...              ...        ...         ...  \n",
              "3271    526.424171       13.894419        66.687695   4.435821           1  \n",
              "3272    392.449580       19.903225              NaN   2.798243           1  \n",
              "3273    432.044783       11.039070        69.845400   3.298875           1  \n",
              "3274    402.883113       11.168946        77.488213   4.708658           1  \n",
              "3275    327.459761       16.140368        78.698446   2.309149           1  \n",
              "\n",
              "[3276 rows x 10 columns]"
            ]
          },
          "execution_count": 3,
          "metadata": {},
          "output_type": "execute_result"
        }
      ],
      "source": [
        "data = pd.read_csv('water_potability.csv')\n",
        "data"
      ]
    },
    {
      "cell_type": "markdown",
      "metadata": {},
      "source": [
        "### Data PreProsesing"
      ]
    },
    {
      "cell_type": "code",
      "execution_count": 4,
      "metadata": {
        "colab": {
          "base_uri": "https://localhost:8080/"
        },
        "id": "OKRPqu4-Fall",
        "outputId": "636b443f-b59d-4ef6-e88f-43348c4324e9"
      },
      "outputs": [
        {
          "name": "stdout",
          "output_type": "stream",
          "text": [
            "<class 'pandas.core.frame.DataFrame'>\n",
            "RangeIndex: 3276 entries, 0 to 3275\n",
            "Data columns (total 10 columns):\n",
            " #   Column           Non-Null Count  Dtype  \n",
            "---  ------           --------------  -----  \n",
            " 0   ph               2785 non-null   float64\n",
            " 1   Hardness         3276 non-null   float64\n",
            " 2   Solids           3276 non-null   float64\n",
            " 3   Chloramines      3276 non-null   float64\n",
            " 4   Sulfate          2495 non-null   float64\n",
            " 5   Conductivity     3276 non-null   float64\n",
            " 6   Organic_carbon   3276 non-null   float64\n",
            " 7   Trihalomethanes  3114 non-null   float64\n",
            " 8   Turbidity        3276 non-null   float64\n",
            " 9   Potability       3276 non-null   int64  \n",
            "dtypes: float64(9), int64(1)\n",
            "memory usage: 256.1 KB\n"
          ]
        }
      ],
      "source": [
        "data.info()"
      ]
    },
    {
      "cell_type": "code",
      "execution_count": 5,
      "metadata": {},
      "outputs": [
        {
          "data": {
            "text/html": [
              "<div>\n",
              "<style scoped>\n",
              "    .dataframe tbody tr th:only-of-type {\n",
              "        vertical-align: middle;\n",
              "    }\n",
              "\n",
              "    .dataframe tbody tr th {\n",
              "        vertical-align: top;\n",
              "    }\n",
              "\n",
              "    .dataframe thead th {\n",
              "        text-align: right;\n",
              "    }\n",
              "</style>\n",
              "<table border=\"1\" class=\"dataframe\">\n",
              "  <thead>\n",
              "    <tr style=\"text-align: right;\">\n",
              "      <th></th>\n",
              "      <th>ph</th>\n",
              "      <th>Hardness</th>\n",
              "      <th>Solids</th>\n",
              "      <th>Chloramines</th>\n",
              "      <th>Sulfate</th>\n",
              "      <th>Conductivity</th>\n",
              "      <th>Organic_carbon</th>\n",
              "      <th>Trihalomethanes</th>\n",
              "      <th>Turbidity</th>\n",
              "      <th>Potability</th>\n",
              "    </tr>\n",
              "  </thead>\n",
              "  <tbody>\n",
              "    <tr>\n",
              "      <th>count</th>\n",
              "      <td>2785.000000</td>\n",
              "      <td>3276.000000</td>\n",
              "      <td>3276.000000</td>\n",
              "      <td>3276.000000</td>\n",
              "      <td>2495.000000</td>\n",
              "      <td>3276.000000</td>\n",
              "      <td>3276.000000</td>\n",
              "      <td>3114.000000</td>\n",
              "      <td>3276.000000</td>\n",
              "      <td>3276.000000</td>\n",
              "    </tr>\n",
              "    <tr>\n",
              "      <th>mean</th>\n",
              "      <td>7.080795</td>\n",
              "      <td>196.369496</td>\n",
              "      <td>22014.092526</td>\n",
              "      <td>7.122277</td>\n",
              "      <td>333.775777</td>\n",
              "      <td>426.205111</td>\n",
              "      <td>14.284970</td>\n",
              "      <td>66.396293</td>\n",
              "      <td>3.966786</td>\n",
              "      <td>0.390110</td>\n",
              "    </tr>\n",
              "    <tr>\n",
              "      <th>std</th>\n",
              "      <td>1.594320</td>\n",
              "      <td>32.879761</td>\n",
              "      <td>8768.570828</td>\n",
              "      <td>1.583085</td>\n",
              "      <td>41.416840</td>\n",
              "      <td>80.824064</td>\n",
              "      <td>3.308162</td>\n",
              "      <td>16.175008</td>\n",
              "      <td>0.780382</td>\n",
              "      <td>0.487849</td>\n",
              "    </tr>\n",
              "    <tr>\n",
              "      <th>min</th>\n",
              "      <td>0.000000</td>\n",
              "      <td>47.432000</td>\n",
              "      <td>320.942611</td>\n",
              "      <td>0.352000</td>\n",
              "      <td>129.000000</td>\n",
              "      <td>181.483754</td>\n",
              "      <td>2.200000</td>\n",
              "      <td>0.738000</td>\n",
              "      <td>1.450000</td>\n",
              "      <td>0.000000</td>\n",
              "    </tr>\n",
              "    <tr>\n",
              "      <th>25%</th>\n",
              "      <td>6.093092</td>\n",
              "      <td>176.850538</td>\n",
              "      <td>15666.690300</td>\n",
              "      <td>6.127421</td>\n",
              "      <td>307.699498</td>\n",
              "      <td>365.734414</td>\n",
              "      <td>12.065801</td>\n",
              "      <td>55.844536</td>\n",
              "      <td>3.439711</td>\n",
              "      <td>0.000000</td>\n",
              "    </tr>\n",
              "    <tr>\n",
              "      <th>50%</th>\n",
              "      <td>7.036752</td>\n",
              "      <td>196.967627</td>\n",
              "      <td>20927.833605</td>\n",
              "      <td>7.130299</td>\n",
              "      <td>333.073546</td>\n",
              "      <td>421.884968</td>\n",
              "      <td>14.218338</td>\n",
              "      <td>66.622485</td>\n",
              "      <td>3.955028</td>\n",
              "      <td>0.000000</td>\n",
              "    </tr>\n",
              "    <tr>\n",
              "      <th>75%</th>\n",
              "      <td>8.062066</td>\n",
              "      <td>216.667456</td>\n",
              "      <td>27332.762125</td>\n",
              "      <td>8.114887</td>\n",
              "      <td>359.950170</td>\n",
              "      <td>481.792305</td>\n",
              "      <td>16.557652</td>\n",
              "      <td>77.337473</td>\n",
              "      <td>4.500320</td>\n",
              "      <td>1.000000</td>\n",
              "    </tr>\n",
              "    <tr>\n",
              "      <th>max</th>\n",
              "      <td>14.000000</td>\n",
              "      <td>323.124000</td>\n",
              "      <td>61227.196010</td>\n",
              "      <td>13.127000</td>\n",
              "      <td>481.030642</td>\n",
              "      <td>753.342620</td>\n",
              "      <td>28.300000</td>\n",
              "      <td>124.000000</td>\n",
              "      <td>6.739000</td>\n",
              "      <td>1.000000</td>\n",
              "    </tr>\n",
              "  </tbody>\n",
              "</table>\n",
              "</div>"
            ],
            "text/plain": [
              "                ph     Hardness        Solids  Chloramines      Sulfate  \\\n",
              "count  2785.000000  3276.000000   3276.000000  3276.000000  2495.000000   \n",
              "mean      7.080795   196.369496  22014.092526     7.122277   333.775777   \n",
              "std       1.594320    32.879761   8768.570828     1.583085    41.416840   \n",
              "min       0.000000    47.432000    320.942611     0.352000   129.000000   \n",
              "25%       6.093092   176.850538  15666.690300     6.127421   307.699498   \n",
              "50%       7.036752   196.967627  20927.833605     7.130299   333.073546   \n",
              "75%       8.062066   216.667456  27332.762125     8.114887   359.950170   \n",
              "max      14.000000   323.124000  61227.196010    13.127000   481.030642   \n",
              "\n",
              "       Conductivity  Organic_carbon  Trihalomethanes    Turbidity   Potability  \n",
              "count   3276.000000     3276.000000      3114.000000  3276.000000  3276.000000  \n",
              "mean     426.205111       14.284970        66.396293     3.966786     0.390110  \n",
              "std       80.824064        3.308162        16.175008     0.780382     0.487849  \n",
              "min      181.483754        2.200000         0.738000     1.450000     0.000000  \n",
              "25%      365.734414       12.065801        55.844536     3.439711     0.000000  \n",
              "50%      421.884968       14.218338        66.622485     3.955028     0.000000  \n",
              "75%      481.792305       16.557652        77.337473     4.500320     1.000000  \n",
              "max      753.342620       28.300000       124.000000     6.739000     1.000000  "
            ]
          },
          "execution_count": 5,
          "metadata": {},
          "output_type": "execute_result"
        }
      ],
      "source": [
        "data.describe()"
      ]
    },
    {
      "cell_type": "code",
      "execution_count": 6,
      "metadata": {},
      "outputs": [
        {
          "data": {
            "text/plain": [
              "0"
            ]
          },
          "execution_count": 6,
          "metadata": {},
          "output_type": "execute_result"
        }
      ],
      "source": [
        "data.duplicated().sum()"
      ]
    },
    {
      "cell_type": "code",
      "execution_count": 7,
      "metadata": {
        "colab": {
          "base_uri": "https://localhost:8080/"
        },
        "id": "PT4zJJK3Fx7F",
        "outputId": "dd904059-4bdc-4772-b64e-5e30fc7ef967"
      },
      "outputs": [
        {
          "name": "stdout",
          "output_type": "stream",
          "text": [
            "ph                 491\n",
            "Hardness             0\n",
            "Solids               0\n",
            "Chloramines          0\n",
            "Sulfate            781\n",
            "Conductivity         0\n",
            "Organic_carbon       0\n",
            "Trihalomethanes    162\n",
            "Turbidity            0\n",
            "Potability           0\n",
            "dtype: int64\n"
          ]
        }
      ],
      "source": [
        "print(data.isnull().sum())"
      ]
    },
    {
      "cell_type": "code",
      "execution_count": 8,
      "metadata": {},
      "outputs": [
        {
          "data": {
            "image/png": "[encoded data removed]",
            "text/plain": [
              "<Figure size 1500x500 with 3 Axes>"
            ]
          },
          "metadata": {},
          "output_type": "display_data"
        }
      ],
      "source": [
        "Kolom = ['ph', 'Sulfate', 'Trihalomethanes']\n",
        "fig, axes = plt.subplots(nrows=1, ncols=len(Kolom), figsize=(15, 5))\n",
        "\n",
        "for i, feature in enumerate(Kolom):\n",
        "    sns.boxplot(data=data[feature], ax=axes[i])\n",
        "    axes[i].set_title(f'Boxplot  {feature}')\n",
        "\n",
        "plt.tight_layout()\n",
        "plt.show()"
      ]
    },
    {
      "cell_type": "code",
      "execution_count": 9,
      "metadata": {
        "id": "2GF9WEZ9F5Kk"
      },
      "outputs": [],
      "source": [
        "data['ph'] = data['ph'].fillna(data['ph'].median())\n",
        "data['Sulfate'] = data['Sulfate'].fillna(data['Sulfate'].median())\n",
        "data['Trihalomethanes'] = data['Trihalomethanes'].fillna(data['Trihalomethanes'].median())"
      ]
    },
    {
      "cell_type": "code",
      "execution_count": 10,
      "metadata": {
        "colab": {
          "base_uri": "https://localhost:8080/"
        },
        "id": "enA6n9O6JiMu",
        "outputId": "d576ad34-548f-4b35-971a-f59beb619eaf"
      },
      "outputs": [
        {
          "name": "stdout",
          "output_type": "stream",
          "text": [
            "ph                 0\n",
            "Hardness           0\n",
            "Solids             0\n",
            "Chloramines        0\n",
            "Sulfate            0\n",
            "Conductivity       0\n",
            "Organic_carbon     0\n",
            "Trihalomethanes    0\n",
            "Turbidity          0\n",
            "Potability         0\n",
            "dtype: int64\n"
          ]
        }
      ],
      "source": [
        "print(data.isnull().sum())"
      ]
    },
    {
      "cell_type": "code",
      "execution_count": 11,
      "metadata": {
        "id": "SdT__6EmJkOV"
      },
      "outputs": [],
      "source": [
        "X = data.drop('Potability',axis = 1)\n",
        "Y = data['Potability']"
      ]
    },
    {
      "cell_type": "code",
      "execution_count": 12,
      "metadata": {
        "colab": {
          "base_uri": "https://localhost:8080/"
        },
        "id": "swNXSZYnYovW",
        "outputId": "cb9330b2-2195-4a8f-c6b1-995b58ce5414"
      },
      "outputs": [
        {
          "name": "stdout",
          "output_type": "stream",
          "text": [
            "Jumlah data dengan Portability = 1: 1278\n",
            "Jumlah data dengan Portability = 0: 1998\n"
          ]
        }
      ],
      "source": [
        "jumlah_portability_1 = len(data[data['Potability'] == 1])\n",
        "print(f\"Jumlah data dengan Portability = 1: {jumlah_portability_1}\")\n",
        "jumlah_portability_0 = len(data[data['Potability'] == 0])\n",
        "print(f\"Jumlah data dengan Portability = 0: {jumlah_portability_0}\")"
      ]
    },
    {
      "cell_type": "markdown",
      "metadata": {},
      "source": [
        "### Resample Data"
      ]
    },
    {
      "cell_type": "code",
      "execution_count": 13,
      "metadata": {
        "id": "oWVsY9X1Y8gP"
      },
      "outputs": [],
      "source": [
        "smote = SMOTE(random_state=42)\n",
        "X_resampled, y_resampled = smote.fit_resample(X, Y)"
      ]
    },
    {
      "cell_type": "code",
      "execution_count": 14,
      "metadata": {},
      "outputs": [
        {
          "name": "stdout",
          "output_type": "stream",
          "text": [
            "Jumlah data dengan Portability = 0: 1998\n",
            "Jumlah data dengan Portability = 1: 1998\n"
          ]
        }
      ],
      "source": [
        "class_counts = np.bincount(y_resampled)\n",
        "print(f'Jumlah data dengan Portability = 0: {class_counts[0]}')\n",
        "print(f'Jumlah data dengan Portability = 1: {class_counts[1]}')"
      ]
    },
    {
      "cell_type": "markdown",
      "metadata": {},
      "source": [
        "### Split Dataset"
      ]
    },
    {
      "cell_type": "code",
      "execution_count": 58,
      "metadata": {
        "id": "VDowOhyPblEt"
      },
      "outputs": [
        {
          "name": "stdout",
          "output_type": "stream",
          "text": [
            "(3596, 9)\n",
            "(400, 9)\n",
            "(3596,)\n",
            "(400,)\n"
          ]
        }
      ],
      "source": [
        "X_train, X_test, y_train, y_test = train_test_split(X_resampled, y_resampled, test_size=0.1, random_state=42)\n",
        "print(X_train.shape)\n",
        "print(X_test.shape)\n",
        "print(y_train.shape)\n",
        "print(y_test.shape)\n"
      ]
    },
    {
      "cell_type": "markdown",
      "metadata": {},
      "source": [
        "### Normalisasi Data"
      ]
    },
    {
      "cell_type": "code",
      "execution_count": 59,
      "metadata": {
        "id": "KU79iOcMWGnG"
      },
      "outputs": [],
      "source": [
        "from sklearn.preprocessing import StandardScaler\n",
        "sc = StandardScaler()\n",
        "X_train = sc.fit_transform(X_train)\n",
        "X_test = sc.transform(X_test)"
      ]
    },
    {
      "cell_type": "markdown",
      "metadata": {},
      "source": [
        "### Model"
      ]
    },
    {
      "cell_type": "code",
      "execution_count": 72,
      "metadata": {
        "id": "59pMqhE-K951"
      },
      "outputs": [],
      "source": [
        "model = Sequential([\n",
        "    Dense(units=500, activation='relu', input_dim=9),\n",
        "    Dropout(0.4),\n",
        "    Dense(units=500, activation='relu'),\n",
        "    Dropout(0.4),\n",
        "    Dense(units=500, activation='relu'),\n",
        "    Dropout(0.4),\n",
        "    Dense(units=1, activation='sigmoid')\n",
        "])\n",
        "opt = Adam(learning_rate=5e-4)\n",
        "model.compile(optimizer=opt, loss='binary_crossentropy', metrics=['accuracy'])\n",
        "\n"
      ]
    },
    {
      "cell_type": "markdown",
      "metadata": {},
      "source": [
        "### Training Model"
      ]
    },
    {
      "cell_type": "code",
      "execution_count": 74,
      "metadata": {
        "colab": {
          "base_uri": "https://localhost:8080/"
        },
        "id": "vxp0ZWxTSkVH",
        "outputId": "0abbabd8-b4d6-4d8d-8683-05b1bf0cac80"
      },
      "outputs": [
        {
          "name": "stdout",
          "output_type": "stream",
          "text": [
            "Epoch 1/100\n",
            "225/225 [==============================] - 1s 5ms/step - loss: 0.2558 - accuracy: 0.8940\n",
            "Epoch 2/100\n",
            "225/225 [==============================] - 1s 5ms/step - loss: 0.2442 - accuracy: 0.8957\n",
            "Epoch 3/100\n",
            "225/225 [==============================] - 1s 5ms/step - loss: 0.2365 - accuracy: 0.9002\n",
            "Epoch 4/100\n",
            "225/225 [==============================] - 1s 5ms/step - loss: 0.2408 - accuracy: 0.8974\n",
            "Epoch 5/100\n",
            "225/225 [==============================] - 1s 5ms/step - loss: 0.2314 - accuracy: 0.9052\n",
            "Epoch 6/100\n",
            "225/225 [==============================] - 1s 5ms/step - loss: 0.2391 - accuracy: 0.8985\n",
            "Epoch 7/100\n",
            "225/225 [==============================] - 1s 5ms/step - loss: 0.2334 - accuracy: 0.9010\n",
            "Epoch 8/100\n",
            "225/225 [==============================] - 1s 6ms/step - loss: 0.2336 - accuracy: 0.8982\n",
            "Epoch 9/100\n",
            "225/225 [==============================] - 2s 8ms/step - loss: 0.2299 - accuracy: 0.9029\n",
            "Epoch 10/100\n",
            "225/225 [==============================] - 2s 9ms/step - loss: 0.2308 - accuracy: 0.8999\n",
            "Epoch 11/100\n",
            "225/225 [==============================] - 2s 8ms/step - loss: 0.2265 - accuracy: 0.9057\n",
            "Epoch 12/100\n",
            "225/225 [==============================] - 2s 8ms/step - loss: 0.2285 - accuracy: 0.9082\n",
            "Epoch 13/100\n",
            "225/225 [==============================] - 2s 8ms/step - loss: 0.2330 - accuracy: 0.9055\n",
            "Epoch 14/100\n",
            "225/225 [==============================] - 2s 9ms/step - loss: 0.2114 - accuracy: 0.9121\n",
            "Epoch 15/100\n",
            "225/225 [==============================] - 2s 7ms/step - loss: 0.2123 - accuracy: 0.9141\n",
            "Epoch 16/100\n",
            "225/225 [==============================] - 2s 8ms/step - loss: 0.2291 - accuracy: 0.9049\n",
            "Epoch 17/100\n",
            "225/225 [==============================] - 2s 7ms/step - loss: 0.2055 - accuracy: 0.9130\n",
            "Epoch 18/100\n",
            "225/225 [==============================] - 2s 8ms/step - loss: 0.2095 - accuracy: 0.9171\n",
            "Epoch 19/100\n",
            "225/225 [==============================] - 2s 8ms/step - loss: 0.2228 - accuracy: 0.9074\n",
            "Epoch 20/100\n",
            "225/225 [==============================] - 2s 8ms/step - loss: 0.2091 - accuracy: 0.9149\n",
            "Epoch 21/100\n",
            "225/225 [==============================] - 2s 8ms/step - loss: 0.2088 - accuracy: 0.9163\n",
            "Epoch 22/100\n",
            "225/225 [==============================] - 2s 7ms/step - loss: 0.1933 - accuracy: 0.9213\n",
            "Epoch 23/100\n",
            "225/225 [==============================] - 2s 8ms/step - loss: 0.2078 - accuracy: 0.9163\n",
            "Epoch 24/100\n",
            "225/225 [==============================] - 2s 7ms/step - loss: 0.1920 - accuracy: 0.9188\n",
            "Epoch 25/100\n",
            "225/225 [==============================] - 2s 8ms/step - loss: 0.1989 - accuracy: 0.9177\n",
            "Epoch 26/100\n",
            "225/225 [==============================] - 2s 7ms/step - loss: 0.1914 - accuracy: 0.9246\n",
            "Epoch 27/100\n",
            "225/225 [==============================] - 2s 8ms/step - loss: 0.2056 - accuracy: 0.9163\n",
            "Epoch 28/100\n",
            "225/225 [==============================] - 2s 8ms/step - loss: 0.1985 - accuracy: 0.9216\n",
            "Epoch 29/100\n",
            "225/225 [==============================] - 2s 8ms/step - loss: 0.1955 - accuracy: 0.9169\n",
            "Epoch 30/100\n",
            "225/225 [==============================] - 2s 8ms/step - loss: 0.1828 - accuracy: 0.9324\n",
            "Epoch 31/100\n",
            "225/225 [==============================] - 2s 8ms/step - loss: 0.1886 - accuracy: 0.9224\n",
            "Epoch 32/100\n",
            "225/225 [==============================] - 2s 8ms/step - loss: 0.1967 - accuracy: 0.9174\n",
            "Epoch 33/100\n",
            "225/225 [==============================] - 2s 8ms/step - loss: 0.1920 - accuracy: 0.9227\n",
            "Epoch 34/100\n",
            "225/225 [==============================] - 2s 8ms/step - loss: 0.2063 - accuracy: 0.9166\n",
            "Epoch 35/100\n",
            "225/225 [==============================] - 2s 8ms/step - loss: 0.1797 - accuracy: 0.9205\n",
            "Epoch 36/100\n",
            "225/225 [==============================] - 2s 9ms/step - loss: 0.1807 - accuracy: 0.9230\n",
            "Epoch 37/100\n",
            "225/225 [==============================] - 2s 9ms/step - loss: 0.1928 - accuracy: 0.9263\n",
            "Epoch 38/100\n",
            "225/225 [==============================] - 2s 8ms/step - loss: 0.1895 - accuracy: 0.9319\n",
            "Epoch 39/100\n",
            "225/225 [==============================] - 1s 5ms/step - loss: 0.1874 - accuracy: 0.9238\n",
            "Epoch 40/100\n",
            "225/225 [==============================] - 1s 5ms/step - loss: 0.1897 - accuracy: 0.9227\n",
            "Epoch 41/100\n",
            "225/225 [==============================] - 1s 5ms/step - loss: 0.1788 - accuracy: 0.9277\n",
            "Epoch 42/100\n",
            "225/225 [==============================] - 1s 5ms/step - loss: 0.1838 - accuracy: 0.9285\n",
            "Epoch 43/100\n",
            "225/225 [==============================] - 1s 5ms/step - loss: 0.1869 - accuracy: 0.9210\n",
            "Epoch 44/100\n",
            "225/225 [==============================] - 1s 5ms/step - loss: 0.1889 - accuracy: 0.9235\n",
            "Epoch 45/100\n",
            "225/225 [==============================] - 1s 5ms/step - loss: 0.1823 - accuracy: 0.9266\n",
            "Epoch 46/100\n",
            "225/225 [==============================] - 2s 7ms/step - loss: 0.1777 - accuracy: 0.9294\n",
            "Epoch 47/100\n",
            "225/225 [==============================] - 1s 7ms/step - loss: 0.1815 - accuracy: 0.9274\n",
            "Epoch 48/100\n",
            "225/225 [==============================] - 2s 7ms/step - loss: 0.1607 - accuracy: 0.9349\n",
            "Epoch 49/100\n",
            "225/225 [==============================] - 1s 7ms/step - loss: 0.1866 - accuracy: 0.9302\n",
            "Epoch 50/100\n",
            "225/225 [==============================] - 1s 7ms/step - loss: 0.1811 - accuracy: 0.9321\n",
            "Epoch 51/100\n",
            "225/225 [==============================] - 2s 7ms/step - loss: 0.1634 - accuracy: 0.9369\n",
            "Epoch 52/100\n",
            "225/225 [==============================] - 1s 6ms/step - loss: 0.1620 - accuracy: 0.9330\n",
            "Epoch 53/100\n",
            "225/225 [==============================] - 1s 7ms/step - loss: 0.1571 - accuracy: 0.9341\n",
            "Epoch 54/100\n",
            "225/225 [==============================] - 1s 6ms/step - loss: 0.1607 - accuracy: 0.9377\n",
            "Epoch 55/100\n",
            "225/225 [==============================] - 2s 7ms/step - loss: 0.1721 - accuracy: 0.9296\n",
            "Epoch 56/100\n",
            "225/225 [==============================] - 1s 6ms/step - loss: 0.1661 - accuracy: 0.9321\n",
            "Epoch 57/100\n",
            "225/225 [==============================] - 1s 7ms/step - loss: 0.1678 - accuracy: 0.9308\n",
            "Epoch 58/100\n",
            "225/225 [==============================] - 1s 7ms/step - loss: 0.1729 - accuracy: 0.9305\n",
            "Epoch 59/100\n",
            "225/225 [==============================] - 2s 7ms/step - loss: 0.1545 - accuracy: 0.9399\n",
            "Epoch 60/100\n",
            "225/225 [==============================] - 1s 6ms/step - loss: 0.1729 - accuracy: 0.9308\n",
            "Epoch 61/100\n",
            "225/225 [==============================] - 2s 7ms/step - loss: 0.1700 - accuracy: 0.9346\n",
            "Epoch 62/100\n",
            "225/225 [==============================] - 1s 7ms/step - loss: 0.1499 - accuracy: 0.9408\n",
            "Epoch 63/100\n",
            "225/225 [==============================] - 2s 7ms/step - loss: 0.1562 - accuracy: 0.9374\n",
            "Epoch 64/100\n",
            "225/225 [==============================] - 2s 7ms/step - loss: 0.1757 - accuracy: 0.9324\n",
            "Epoch 65/100\n",
            "225/225 [==============================] - 2s 7ms/step - loss: 0.1737 - accuracy: 0.9335\n",
            "Epoch 66/100\n",
            "225/225 [==============================] - 2s 7ms/step - loss: 0.1589 - accuracy: 0.9388\n",
            "Epoch 67/100\n",
            "225/225 [==============================] - 2s 7ms/step - loss: 0.1631 - accuracy: 0.9327\n",
            "Epoch 68/100\n",
            "225/225 [==============================] - 2s 7ms/step - loss: 0.1592 - accuracy: 0.9355\n",
            "Epoch 69/100\n",
            "225/225 [==============================] - 2s 7ms/step - loss: 0.1497 - accuracy: 0.9472\n",
            "Epoch 70/100\n",
            "225/225 [==============================] - 2s 7ms/step - loss: 0.1604 - accuracy: 0.9372\n",
            "Epoch 71/100\n",
            "225/225 [==============================] - 2s 7ms/step - loss: 0.1562 - accuracy: 0.9397\n",
            "Epoch 72/100\n",
            "225/225 [==============================] - 2s 7ms/step - loss: 0.1487 - accuracy: 0.9424\n",
            "Epoch 73/100\n",
            "225/225 [==============================] - 2s 7ms/step - loss: 0.1454 - accuracy: 0.9427\n",
            "Epoch 74/100\n",
            "225/225 [==============================] - 2s 7ms/step - loss: 0.1576 - accuracy: 0.9419\n",
            "Epoch 75/100\n",
            "225/225 [==============================] - 1s 7ms/step - loss: 0.1711 - accuracy: 0.9316\n",
            "Epoch 76/100\n",
            "225/225 [==============================] - 1s 6ms/step - loss: 0.1459 - accuracy: 0.9455\n",
            "Epoch 77/100\n",
            "225/225 [==============================] - 2s 7ms/step - loss: 0.1595 - accuracy: 0.9419\n",
            "Epoch 78/100\n",
            "225/225 [==============================] - 2s 7ms/step - loss: 0.1530 - accuracy: 0.9424\n",
            "Epoch 79/100\n",
            "225/225 [==============================] - 2s 7ms/step - loss: 0.1390 - accuracy: 0.9483\n",
            "Epoch 80/100\n",
            "225/225 [==============================] - 2s 8ms/step - loss: 0.1599 - accuracy: 0.9358\n",
            "Epoch 81/100\n",
            "225/225 [==============================] - 1s 6ms/step - loss: 0.1496 - accuracy: 0.9413\n",
            "Epoch 82/100\n",
            "225/225 [==============================] - 1s 6ms/step - loss: 0.1440 - accuracy: 0.9430\n",
            "Epoch 83/100\n",
            "225/225 [==============================] - 1s 6ms/step - loss: 0.1716 - accuracy: 0.9321\n",
            "Epoch 84/100\n",
            "225/225 [==============================] - 1s 6ms/step - loss: 0.1463 - accuracy: 0.9397\n",
            "Epoch 85/100\n",
            "225/225 [==============================] - 1s 7ms/step - loss: 0.1622 - accuracy: 0.9369\n",
            "Epoch 86/100\n",
            "225/225 [==============================] - 1s 6ms/step - loss: 0.1365 - accuracy: 0.9497\n",
            "Epoch 87/100\n",
            "225/225 [==============================] - 1s 7ms/step - loss: 0.1513 - accuracy: 0.9394\n",
            "Epoch 88/100\n",
            "225/225 [==============================] - 2s 7ms/step - loss: 0.1306 - accuracy: 0.9486\n",
            "Epoch 89/100\n",
            "225/225 [==============================] - 1s 6ms/step - loss: 0.1567 - accuracy: 0.9333\n",
            "Epoch 90/100\n",
            "225/225 [==============================] - 1s 7ms/step - loss: 0.1546 - accuracy: 0.9452\n",
            "Epoch 91/100\n",
            "225/225 [==============================] - 2s 7ms/step - loss: 0.1588 - accuracy: 0.9391\n",
            "Epoch 92/100\n",
            "225/225 [==============================] - 1s 7ms/step - loss: 0.1320 - accuracy: 0.9458\n",
            "Epoch 93/100\n",
            "225/225 [==============================] - 1s 7ms/step - loss: 0.1415 - accuracy: 0.9519\n",
            "Epoch 94/100\n",
            "225/225 [==============================] - 1s 6ms/step - loss: 0.1237 - accuracy: 0.9533\n",
            "Epoch 95/100\n",
            "225/225 [==============================] - 2s 7ms/step - loss: 0.1473 - accuracy: 0.9430\n",
            "Epoch 96/100\n",
            "225/225 [==============================] - 1s 6ms/step - loss: 0.1333 - accuracy: 0.9497\n",
            "Epoch 97/100\n",
            "225/225 [==============================] - 2s 7ms/step - loss: 0.1351 - accuracy: 0.9477\n",
            "Epoch 98/100\n",
            "225/225 [==============================] - 1s 7ms/step - loss: 0.1565 - accuracy: 0.9424\n",
            "Epoch 99/100\n",
            "225/225 [==============================] - 2s 7ms/step - loss: 0.1588 - accuracy: 0.9385\n",
            "Epoch 100/100\n",
            "225/225 [==============================] - 1s 7ms/step - loss: 0.1434 - accuracy: 0.9452\n",
            "13/13 [==============================] - 0s 5ms/step - loss: 1.0339 - accuracy: 0.7450\n",
            "Accuracy: 74.50%\n"
          ]
        }
      ],
      "source": [
        "history = model.fit(X_train, y_train, epochs=100, batch_size=16)\n",
        "loss, accuracy = model.evaluate(X_test, y_test)\n",
        "print(f'Accuracy: {accuracy*100:.2f}%')"
      ]
    },
    {
      "cell_type": "markdown",
      "metadata": {},
      "source": [
        "##  Eksperiment"
      ]
    },
    {
      "cell_type": "code",
      "execution_count": null,
      "metadata": {},
      "outputs": [],
      "source": [
        "'''\n",
        "##### catatan 1\n",
        "tadi pake 7e-5 hasil akurasi 70 % 5e-5 juga 70% % 8e -5 masih 70% neuron masih 500 drouput 0.5 3 hidden layer epoch 400 pake adam\n",
        "batch size 16 akurasi masih 70 batch 32 turun jadi 66 % ini 8e-5\n",
        "5e-5 batch 16 70% batch 32 hasil 68 %\n",
        "7e-5 batch 16 70% batch 32 hasil 68 %\n",
        "batch size 16 selalu 70 % dari 3 kearning rate\n",
        "nambah 1 hidden layer 500 sama droput 0.5 lr 7e-5 masih 70%\n",
        "####### catatan 2  epoch jadi 50\n",
        "pake 1e -3 tanpa dropout hasil 71 % pake 3 hidden layer 500 neuron activation relu batch 16\n",
        "neuron 600 100 100 droput 20 % learning rate 2e-4 akurasi 67% batch size 16 %\n",
        "neurom 500 dropout 0.4 optimizer 4e-4 adam epoch 100 batchsize 16 71.75%\n",
        "neuron 500 dropout 0.4 optimezer adam learning rate 5e-4 70 %\n",
        "####### catatan 3 learning rate - 5 dropout 0.5 3hidden layer\n",
        "1e - 5 63 % tidak overfitting\n",
        "2e - 5 63 % tidak overfitting\n",
        "3e - 5 62 % tidak overfitting\n",
        "4e - 5 62 % tidak overfitting\n",
        "#######5e - 4 69 % tidak overfitting pake median\n",
        "#######5e - 4 70 % tidak dengan dropout 0.4\n",
        "5e - 4 64 % tidak dengan dropout 0.4 tanpa resample\n",
        "5e - 4 69 % tidak overfitting dengan dropout 0.4 resample nambah 1 hidden layer\n",
        "######5e - 4 72 % tidak overfitting dengan dropout 0.5 resample nambah 1 hidden layer batch size 32\n",
        "5e - 4 70 % tidak overfitting dengan dropout 0.5 resample nambah 1 hidden layer batch size 64\n",
        "15e - 4 69 % tidak overfitting dengan dropout 0.5 resample nambah 1 hidden layer batch size 64\n",
        "#######15e - 4 70 % tidak overfitting dengan dropout 0.5 resample nambah 1 hidden layer batch size 32\n",
        "15e - 3 50 % dengan dropout 0.5 resample nambah 1 hidden layer batch size 32\n",
        "15e - 5 64 % dengan dropout 0.5 resample nambah 1 hidden layer batch size 32\n",
        "\n",
        "'''"
      ]
    },
    {
      "cell_type": "markdown",
      "metadata": {},
      "source": [
        "### Save Model"
      ]
    },
    {
      "cell_type": "code",
      "execution_count": 76,
      "metadata": {
        "colab": {
          "base_uri": "https://localhost:8080/"
        },
        "id": "zUOXLuIzBay-",
        "outputId": "b40e2e87-8059-49dd-c90c-d49dc9d6e819"
      },
      "outputs": [
        {
          "name": "stderr",
          "output_type": "stream",
          "text": [
            "c:\\Users\\dhifa\\anaconda3\\Lib\\site-packages\\keras\\src\\engine\\training.py:3079: UserWarning: You are saving your model as an HDF5 file via `model.save()`. This file format is considered legacy. We recommend using instead the native Keras format, e.g. `model.save('my_model.keras')`.\n",
            "  saving_api.save_model(\n"
          ]
        }
      ],
      "source": [
        "model.save('model74.h5')"
      ]
    },
    {
      "cell_type": "code",
      "execution_count": 75,
      "metadata": {},
      "outputs": [
        {
          "name": "stdout",
          "output_type": "stream",
          "text": [
            "13/13 [==============================] - 0s 3ms/step\n",
            "              precision    recall  f1-score   support\n",
            "\n",
            "           0       0.76      0.74      0.75       205\n",
            "           1       0.73      0.75      0.74       195\n",
            "\n",
            "    accuracy                           0.74       400\n",
            "   macro avg       0.75      0.75      0.74       400\n",
            "weighted avg       0.75      0.74      0.75       400\n",
            "\n"
          ]
        }
      ],
      "source": [
        "y_pred = model.predict(X_test)\n",
        "y_pred = (y_pred > 0.5)\n",
        "\n",
        "print(classification_report(y_test, y_pred))"
      ]
    },
    {
      "cell_type": "markdown",
      "metadata": {},
      "source": [
        "#### Hasil Dari Klasifikasi 72 %"
      ]
    },
    {
      "cell_type": "code",
      "execution_count": 21,
      "metadata": {
        "colab": {
          "base_uri": "https://localhost:8080/"
        },
        "id": "vqIBVD2RXkDf",
        "outputId": "a635d57f-b03d-4f1b-88cf-0314403b151b"
      },
      "outputs": [
        {
          "name": "stdout",
          "output_type": "stream",
          "text": [
            "13/13 [==============================] - 0s 2ms/step\n",
            "              precision    recall  f1-score   support\n",
            "\n",
            "           0       0.73      0.72      0.73       205\n",
            "           1       0.71      0.72      0.71       195\n",
            "\n",
            "    accuracy                           0.72       400\n",
            "   macro avg       0.72      0.72      0.72       400\n",
            "weighted avg       0.72      0.72      0.72       400\n",
            "\n"
          ]
        }
      ],
      "source": [
        "loaded_model = load_model('model72.h5')\n",
        "\n",
        "y_pred = loaded_model.predict(X_test)\n",
        "y_pred = (y_pred > 0.5)\n",
        "\n",
        "print(classification_report(y_test, y_pred))\n"
      ]
    },
    {
      "cell_type": "markdown",
      "metadata": {},
      "source": [
        "### Hasil Klasifikasi 71%"
      ]
    },
    {
      "cell_type": "code",
      "execution_count": 22,
      "metadata": {},
      "outputs": [
        {
          "name": "stdout",
          "output_type": "stream",
          "text": [
            "13/13 [==============================] - 0s 2ms/step\n",
            "              precision    recall  f1-score   support\n",
            "\n",
            "           0       0.68      0.61      0.64       205\n",
            "           1       0.63      0.70      0.66       195\n",
            "\n",
            "    accuracy                           0.65       400\n",
            "   macro avg       0.65      0.65      0.65       400\n",
            "weighted avg       0.66      0.65      0.65       400\n",
            "\n"
          ]
        }
      ],
      "source": [
        "loaded_model = load_model('model71.h5')\n",
        "\n",
        "y_pred = loaded_model.predict(X_test)\n",
        "y_pred = (y_pred > 0.5)\n",
        "\n",
        "print(classification_report(y_test, y_pred))"
      ]
    },
    {
      "cell_type": "markdown",
      "metadata": {},
      "source": [
        "### Hasil Klasifikasi 69%"
      ]
    },
    {
      "cell_type": "code",
      "execution_count": 23,
      "metadata": {},
      "outputs": [
        {
          "name": "stdout",
          "output_type": "stream",
          "text": [
            "13/13 [==============================] - 0s 3ms/step\n",
            "              precision    recall  f1-score   support\n",
            "\n",
            "           0       0.69      0.69      0.69       205\n",
            "           1       0.68      0.68      0.68       195\n",
            "\n",
            "    accuracy                           0.69       400\n",
            "   macro avg       0.68      0.68      0.68       400\n",
            "weighted avg       0.69      0.69      0.69       400\n",
            "\n"
          ]
        }
      ],
      "source": [
        "loaded_model = load_model('model1.h5')\n",
        "\n",
        "y_pred = loaded_model.predict(X_test)\n",
        "y_pred = (y_pred > 0.5)\n",
        "\n",
        "print(classification_report(y_test, y_pred))"
      ]
    }
  ],
  "metadata": {
    "colab": {
      "provenance": []
    },
    "kernelspec": {
      "display_name": "Python 3",
      "name": "python3"
    },
    "language_info": {
      "codemirror_mode": {
        "name": "ipython",
        "version": 3
      },
      "file_extension": ".py",
      "mimetype": "text/x-python",
      "name": "python",
      "nbconvert_exporter": "python",
      "pygments_lexer": "ipython3",
      "version": "3.11.5"
    }
  },
  "nbformat": 4,
  "nbformat_minor": 0
}
